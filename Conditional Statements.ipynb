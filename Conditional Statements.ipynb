{
 "cells": [
  {
   "cell_type": "markdown",
   "id": "e53ebafc",
   "metadata": {},
   "source": [
    "# Conditional Statements\n",
    "- if else\n",
    "- if elif else\n",
    "\n",
    "Conditional statements are also called cases. Any block in python will have alteast one statement. <br>\n",
    "Code only runs in the conditional statement if it is indented. \n",
    "\n",
    "\n",
    "## if condition: \n",
    "if condition when used executes the indented lines when the condition provided is true. <br>\n",
    "Syntax: <br>\n",
    "if expression: #Runs the following code only when the condition is true.<br>\n",
    "&emsp;Statement<br>\n",
    "&emsp;Statement<br>\n",
    "    "
   ]
  },
  {
   "cell_type": "code",
   "execution_count": 19,
   "id": "53d20bd2",
   "metadata": {},
   "outputs": [
    {
     "name": "stdout",
     "output_type": "stream",
     "text": [
      "Choose a number between 1 to 10: 11\n",
      "Incorrect number entered.\n"
     ]
    }
   ],
   "source": [
    "choice= int(input(\"Choose a number between 1 to 10: \"))\n",
    "if (choice >= 1 and choice <6):\n",
    "    print ('Green')\n",
    "if (choice >= 6 and choice <10 ):\n",
    "    print ('Red')\n",
    "if (choice <1 or choice >10):\n",
    "    print (\"Incorrect number entered.\")"
   ]
  },
  {
   "cell_type": "markdown",
   "id": "5180caa6",
   "metadata": {},
   "source": [
    "## if else Condition: \n",
    "\n",
    "if else condition can be used to execute two sets of codes which do not relate to each other. \n",
    "Syntax: \n",
    "\n",
    "if expression:   # Runs the following code when condition is true <br>\n",
    "&emsp; Statement<br>\n",
    "else:           # Runs the folowing code when conditions is false. <br>\n",
    "&emsp; Statement <br>"
   ]
  },
  {
   "cell_type": "code",
   "execution_count": 21,
   "id": "276f570a",
   "metadata": {},
   "outputs": [
    {
     "name": "stdout",
     "output_type": "stream",
     "text": [
      "Choose your number: 1874279\n",
      "Value is greater than 5. \n"
     ]
    }
   ],
   "source": [
    "choice = int(input(\"Choose your number: \"))\n",
    "if (choice >=1 and choice <6):\n",
    "    print (\"Value is between 1 and 5(Numbers Inclusive).\")\n",
    "else: \n",
    "    print (\"Value is greater than 5. \")"
   ]
  },
  {
   "cell_type": "markdown",
   "id": "98cbdcc6",
   "metadata": {},
   "source": [
    "## if elif else\n",
    "\n",
    "if elif else can be used in the cases where there are more than two conditions to be applied to acheive an end result as per the input provided.<br> \n",
    "Syntax:<br>\n",
    "if expression: #Runs the following code if the condition here is true<br>\n",
    "&nbsp;&nbsp;&nbsp;&nbsp;Statement<br>\n",
    "elif expression: #Runs the following code if the condition here is true<br>\n",
    "&nbsp;&nbsp;&nbsp;&nbsp;Statement<br>\n",
    "elif expression: #Runs the following code if the condition here is true<br>\n",
    "&nbsp;&nbsp;&nbsp;&nbsp;Statement<br>\n",
    ".<br>\n",
    ".<br>\n",
    ".<br>\n",
    "else: #Run the code below if all the above conditions are false<br>\n",
    "&nbsp;&nbsp;&nbsp;&nbsp;Statement"
   ]
  },
  {
   "cell_type": "code",
   "execution_count": 24,
   "id": "7589a936",
   "metadata": {},
   "outputs": [
    {
     "name": "stdout",
     "output_type": "stream",
     "text": [
      "Enter your Number: 34\n",
      "Number is greater than 10\n"
     ]
    }
   ],
   "source": [
    "choice = int(input(\"Enter your Number: \"))\n",
    "if (choice <1):\n",
    "    print(\"The value is zero\")\n",
    "elif (choice >0 and choice <4):\n",
    "    print(\"Falls in Range (1,3))\")\n",
    "elif (choice >3 and choice <8):\n",
    "    print(\"Falls in Range (4,7)\")\n",
    "elif (choice >7 and choice <=10):\n",
    "    print (\"Falls in Range (8,10)\")\n",
    "else:\n",
    "    print (\"Number is greater than 10\")"
   ]
  },
  {
   "cell_type": "markdown",
   "id": "5d7112e8",
   "metadata": {},
   "source": [
    "#### Exercises: \n",
    " 1. Print the number that is larger than the other. If they are equal print \"Both the numbers are equal.\"<br>\n",
    " "
   ]
  },
  {
   "cell_type": "code",
   "execution_count": 2,
   "id": "c1c62a41",
   "metadata": {},
   "outputs": [
    {
     "name": "stdout",
     "output_type": "stream",
     "text": [
      "Enter the first Number: 8\n",
      "Enter the second Number: 8\n",
      "Both the numbers are equal.\n"
     ]
    }
   ],
   "source": [
    "a= input(\"Enter the first Number: \")\n",
    "b= input(\"Enter the second Number: \")\n",
    "if a>b:\n",
    "    print (f\"{a} is greater than {b}\")\n",
    "elif b>a: \n",
    "    print (f\"{b} is greater than {a} \")\n",
    "else :\n",
    "    print(\"Both the numbers are equal.\")"
   ]
  },
  {
   "cell_type": "markdown",
   "id": "89b6e6a0",
   "metadata": {},
   "source": [
    "2. Find if number is even or odd. "
   ]
  },
  {
   "cell_type": "code",
   "execution_count": 8,
   "id": "28fbae58",
   "metadata": {},
   "outputs": [
    {
     "name": "stdout",
     "output_type": "stream",
     "text": [
      "Enter the Number: 428.32\n"
     ]
    }
   ],
   "source": [
    "a= int(input(\"Enter the Number: \"))\n",
    "\n",
    "if a%2 == 0:\n",
    "    print(f\"{a} is even\")\n",
    "if a%2 == 1: \n",
    "    print(f\"{a} is odd\")\n"
   ]
  },
  {
   "cell_type": "markdown",
   "id": "72be3afa",
   "metadata": {},
   "source": [
    "3. Find wether file given by user is python file. "
   ]
  },
  {
   "cell_type": "code",
   "execution_count": 25,
   "id": "aa67f4e4",
   "metadata": {},
   "outputs": [
    {
     "name": "stdout",
     "output_type": "stream",
     "text": [
      "Enter the name of the file with extension: .py\n",
      ".py is a python file.\n"
     ]
    }
   ],
   "source": [
    "filename = input(\"Enter the name of the file with extension: \")\n",
    "\n",
    "if filename.lower().endswith(\".py\"): \n",
    "    print(f\"{filename} is a python file.\")\n",
    "else: \n",
    "    print(f\"{filename} is a python file.\")"
   ]
  },
  {
   "cell_type": "markdown",
   "id": "eff2b0aa",
   "metadata": {},
   "source": [
    "3. Find out if the given phone number is a Mobile number or a landline."
   ]
  },
  {
   "cell_type": "code",
   "execution_count": 24,
   "id": "adfac7de",
   "metadata": {},
   "outputs": [
    {
     "name": "stdout",
     "output_type": "stream",
     "text": [
      "Please share the phone number(do no include the std code): fh98298\n",
      "fh98298 is not a valid phno.\n"
     ]
    }
   ],
   "source": [
    "phno = str(input(\"Please share the phone number(do no include the std code): \"))\n",
    "\n",
    "if 7<len(phno)<10 and phno.isdigit(): \n",
    "    print(f\"{phno} is a landline number.\")\n",
    "elif len(phno)== 10 and phno.isdigit(): \n",
    "    print(f\"{phno} is a mobile number.\")\n",
    "else: \n",
    "    print(f\"{phno} is not a valid phno.\")"
   ]
  },
  {
   "cell_type": "markdown",
   "id": "cba27d8d",
   "metadata": {},
   "source": [
    "4. A company decided to give bonus of 5% to employee if his/her year of service is more than 5 years.\n",
    "Ask user for their salary and year of service and print the net bonus amount."
   ]
  },
  {
   "cell_type": "code",
   "execution_count": 4,
   "id": "b3d8f612",
   "metadata": {},
   "outputs": [
    {
     "name": "stdout",
     "output_type": "stream",
     "text": [
      "Salary Amount: 732000\n",
      "No of years worked :7\n",
      "You are eligible for a bonus of 36600.0\n"
     ]
    }
   ],
   "source": [
    "salary = float(input(\"Salary Amount: \"))\n",
    "years = input (\"No of years worked :\")\n",
    "\n",
    "\n",
    "if int(years) > 5:\n",
    "    bonus =(salary * 0.05)\n",
    "    print(f\"You are eligible for a bonus of {bonus}\")\n",
    "else : \n",
    "    print('You are not eligible for a bonus this year.')\n",
    "  "
   ]
  },
  {
   "cell_type": "markdown",
   "id": "c9fb578a",
   "metadata": {},
   "source": [
    "5. Take values of length and breadth of a rectangle from user and check if it is square or not.\n"
   ]
  },
  {
   "cell_type": "code",
   "execution_count": 9,
   "id": "9e87f053",
   "metadata": {},
   "outputs": [
    {
     "name": "stdout",
     "output_type": "stream",
     "text": [
      "Length = 5\n",
      "Width =4\n",
      "The area is 20.\n"
     ]
    }
   ],
   "source": [
    "length = int(input(\"Length = \"))\n",
    "width= int(input(\"Width =\"))\n",
    "\n",
    "if length==width:\n",
    "    print(f\"The area is {length*width}. The dimensions form a square.\")\n",
    "else: \n",
    "    print(f\"The area is {length*width}.\")"
   ]
  },
  {
   "cell_type": "markdown",
   "id": "c8ca1444",
   "metadata": {},
   "source": [
    "6. Take two int values from user and print greatest among them.\n"
   ]
  },
  {
   "cell_type": "code",
   "execution_count": 11,
   "id": "4bdf07c0",
   "metadata": {},
   "outputs": [
    {
     "name": "stdout",
     "output_type": "stream",
     "text": [
      "Enter the first number A= 52\n",
      "Enter the Second number B= 62\n",
      "62 is greater than 52.\n"
     ]
    }
   ],
   "source": [
    "a= (int(input(\"Enter the first number A= \")))\n",
    "b= int(input(\"Enter the Second number B= \"))\n",
    "\n",
    "if a>b: \n",
    "    print(f\"{a} is greater than {b}.\")\n",
    "elif a==b:\n",
    "    print(f\"{a} and {b} are equal.\")\n",
    "else: \n",
    "    print(f\"{b} is greater than {a}.\")\n",
    "    "
   ]
  },
  {
   "cell_type": "markdown",
   "id": "2ff9e6a9",
   "metadata": {},
   "source": [
    "7. A shop will give discount of 10% if the cost of purchased quantity is more than 1000.\n",
    "Ask user for quantity\n",
    "Suppose, one unit will cost 100.\n",
    "Judge and print total cost for user."
   ]
  },
  {
   "cell_type": "code",
   "execution_count": 15,
   "id": "faba3afe",
   "metadata": {},
   "outputs": [
    {
     "name": "stdout",
     "output_type": "stream",
     "text": [
      "How many units do you want to order?11\n",
      "Discounted price: 990.0\n"
     ]
    }
   ],
   "source": [
    "ppu = 100\n",
    "quantity = int(input(\"How many units do you want to order?\"))\n",
    "cost = ppu*quantity\n",
    "\n",
    "if cost>1000:\n",
    "    discount = cost*.10\n",
    "    cost= cost-discount\n",
    "    print(f\"Discounted price: {cost}\")\n",
    "else: \n",
    "    print(f\"Cost : {cost}\" )"
   ]
  },
  {
   "cell_type": "markdown",
   "id": "2465a6af",
   "metadata": {},
   "source": [
    "8. A school has following rules for grading system:<br>\n",
    "a. Below 25 - F<br>\n",
    "b. 25 to 45 - E<br>\n",
    "c. 45 to 50 - D<br>\n",
    "d. 50 to 60 - C<br>\n",
    "e. 60 to 80 - B<br>\n",
    "f. Above 80 - A<br>\n",
    "Ask user to enter marks and print the corresponding grade.<br>"
   ]
  },
  {
   "cell_type": "code",
   "execution_count": 19,
   "id": "f2f83089",
   "metadata": {},
   "outputs": [
    {
     "name": "stdout",
     "output_type": "stream",
     "text": [
      "Enter the marks earned: 72\n",
      "Grade B\n"
     ]
    }
   ],
   "source": [
    "marks= int(input(\"Enter the marks earned: \"))\n",
    "\n",
    "if marks<25:\n",
    "    Print(\"Grade F\")\n",
    "elif 24<marks<46:\n",
    "    print(\"Grade E\")\n",
    "elif 45<marks<51:\n",
    "    print(\"Grade D\")\n",
    "elif 50<marks<61:\n",
    "    print(\"Grade C\")\n",
    "elif 60<marks<81:\n",
    "    print(\"Grade B\")\n",
    "elif 80<marks<101:\n",
    "    print(\"Grade A\")\n",
    "else: \n",
    "    print(\"Enter a number between 0 and 100.\")"
   ]
  },
  {
   "cell_type": "markdown",
   "id": "9122eb44",
   "metadata": {},
   "source": [
    "9. Take input of age of 3 people by user and determine oldest and youngest among them."
   ]
  },
  {
   "cell_type": "code",
   "execution_count": 29,
   "id": "7547c1f8",
   "metadata": {},
   "outputs": [
    {
     "name": "stdout",
     "output_type": "stream",
     "text": [
      "Age of first person: 42\n",
      "Age of Second Person: 12\n",
      "age of Third Person: 42\n",
      "First and Third person are of same age and are older than Second.\n"
     ]
    }
   ],
   "source": [
    "age1 = int(input(\"Age of first person: \"))\n",
    "age2 = int(input(\"Age of Second Person: \"))\n",
    "age3 = int(input(\"age of Third Person: \"))\n",
    "\n",
    "if age1<age2:\n",
    "    if age2<age3:\n",
    "        print(f\"Third person is the oldest.\")\n",
    "    elif age2==age3:\n",
    "        print(\"Second and Third person are of same age and are older than First.\")\n",
    "    else: \n",
    "        print(\"Second Person is the oldest.\")\n",
    "elif age1>age2:\n",
    "    if age1<age3:\n",
    "        print(\"Third Person is oldest.\")\n",
    "    elif age1==age3:\n",
    "        print(\"First and Third person are of same age and are older than Second.\")\n",
    "    else: \n",
    "        print(\"First Person is oldest.\")\n",
    "else: \n",
    "    if age3>age2:\n",
    "        print(\"Third Person is oldest.\")\n",
    "    elif age3==age2:\n",
    "        print(\"They are all of the same age.\")\n",
    "    else: \n",
    "        print(\"First and Second person are of same age and are older than Third.\")\n"
   ]
  },
  {
   "cell_type": "markdown",
   "id": "31421ebe",
   "metadata": {},
   "source": [
    "10. Write a program to print absolute vlaue of a number entered by user. E.g.-<br>\n",
    "INPUT: 1        OUTPUT: 1<br>\n",
    "INPUT: -1        OUTPUT: 1<br>"
   ]
  },
  {
   "cell_type": "code",
   "execution_count": 7,
   "id": "07e7b934",
   "metadata": {
    "scrolled": true
   },
   "outputs": [
    {
     "name": "stdout",
     "output_type": "stream",
     "text": [
      "Enter the number: 53\n",
      "Output: 53\n"
     ]
    }
   ],
   "source": [
    "num = int(input(\"Enter the number: \"))\n",
    "\n",
    "if num<0:\n",
    "    num= num*-1\n",
    "    print(f\"Output: {num}\")\n",
    "else: \n",
    "    print(f\"Output: {num}\")"
   ]
  },
  {
   "cell_type": "markdown",
   "id": "bfc90e22",
   "metadata": {},
   "source": [
    "11. A student will not be allowed to sit in exam if his/her attendence is less than 75%.<br>\n",
    "Take following input from user<br>\n",
    "Number of classes held<br>\n",
    "Number of classes attended.<br>\n",
    "And print<br>\n",
    "percentage of class attended<br>\n",
    "Is student is allowed to sit in exam or not.<br>"
   ]
  },
  {
   "cell_type": "code",
   "execution_count": 11,
   "id": "30efcb01",
   "metadata": {},
   "outputs": [
    {
     "name": "stdout",
     "output_type": "stream",
     "text": [
      "Enter the number of classes held:53\n",
      "Enter the number of classes attended:5\n",
      "As the attendance is less than 9.433962264150944%, the student will not be allowed to sit in the exam.\n"
     ]
    }
   ],
   "source": [
    "clsh= int(input(\"Enter the number of classes held:\"))\n",
    "clsa= int(input(\"Enter the number of classes attended:\"))\n",
    "percent= (clsa/clsh)*100\n",
    "\n",
    "if percent<75:\n",
    "    print(f\"As the attendance is less than {percent}%, the student will not be allowed to sit in the exam.\")\n",
    "else:\n",
    "    print(\"The student is allowed to sit in the exam.\")"
   ]
  },
  {
   "cell_type": "markdown",
   "id": "53ef7e1b",
   "metadata": {},
   "source": [
    "12. Modify the above question to allow student to sit if he/she has medical cause. Ask user if he/she has medical cause or not ( 'Y' or 'N' ) and print accordingly.\n"
   ]
  },
  {
   "cell_type": "code",
   "execution_count": 14,
   "id": "790e3d99",
   "metadata": {},
   "outputs": [
    {
     "name": "stdout",
     "output_type": "stream",
     "text": [
      "Enter the number of classes held:55\n",
      "Enter the number of classes attended:25\n",
      "Did you have a medical emergency(Y/N):Y\n",
      "The student is allowed to sit in the exam.\n"
     ]
    }
   ],
   "source": [
    "clsh= int(input(\"Enter the number of classes held:\"))\n",
    "clsa= int(input(\"Enter the number of classes attended:\"))\n",
    "med= input(\"Did you have a medical emergency(Y/N):\")\n",
    "percent= (clsa/clsh)*100\n",
    "\n",
    "if percent<75 and med== 'N':\n",
    "    print(f\"As the attendance is less than {percent}%, the student will not be allowed to sit in the exam.\")\n",
    "elif percent<75 and med=='Y':\n",
    "    print(\"The student is allowed to sit in the exam.\")\n",
    "else:\n",
    "    print(\"The student is allowed to sit in the exam.\")"
   ]
  },
  {
   "cell_type": "markdown",
   "id": "86c2b053",
   "metadata": {},
   "source": [
    "13. Write a program to check if a year is leap year or not.<br>\n",
    "If a year is divisible by 4 then it is leap year but if the year is century year like 2000, 1900, 2100 then it must be divisible by 400."
   ]
  },
  {
   "cell_type": "code",
   "execution_count": 18,
   "id": "f29adff4",
   "metadata": {
    "scrolled": false
   },
   "outputs": [
    {
     "name": "stdout",
     "output_type": "stream",
     "text": [
      "Enter the year: 1992\n",
      "It is a leap year.\n"
     ]
    }
   ],
   "source": [
    "year= int(input(\"Enter the year: \"))\n",
    "\n",
    "if (year%4==0) or (year%400==0):\n",
    "    print(\"It is a leap year.\")\n",
    "else:\n",
    "    print(\"It is not a leap year.\")\n",
    "\n"
   ]
  },
  {
   "cell_type": "markdown",
   "id": "d49be7bc",
   "metadata": {},
   "source": [
    "14. Ask user to enter age, sex ( M or F ), marital status ( Y or N ) and then using following rules print their place of service.<br>\n",
    "if employee is female, then she will work only in urban areas.<br>\n",
    "<br>\n",
    "if employee is a male and age is in between 20 to 40 then he may work in anywhere<br>\n",
    "<br>\n",
    "if employee is male and age is in between 40 t0 60 then he will work in urban areas only.<br>\n",
    "<br>\n",
    "And any other input of age should print \"ERROR\".<br>"
   ]
  },
  {
   "cell_type": "code",
   "execution_count": 28,
   "id": "2c0f7bd7",
   "metadata": {},
   "outputs": [
    {
     "name": "stdout",
     "output_type": "stream",
     "text": [
      "Enter the age: 32\n",
      "Sex(M/F): f\n",
      "Marital Status(Y/N): y\n",
      "The employee can work in Urban Areas only.\n"
     ]
    }
   ],
   "source": [
    "age = int(input(\"Enter the age: \"))\n",
    "sex = (input(\"Sex(M/F): \"))\n",
    "ms = input(\"Marital Status(Y/N): \")\n",
    "\n",
    "if sex.lower()== 'm' and age in range(20,40):\n",
    "    print(\"The employee can work anywhere.\")\n",
    "elif sex.lower()== 'm' and age in range(40,60):\n",
    "    print(\"The employee can work in Urban areas only.\")\n",
    "elif sex.lower()== 'f':\n",
    "    print(\"The employee can work in Urban Areas only.\")\n",
    "else:\n",
    "    print(\"Error\")"
   ]
  },
  {
   "cell_type": "markdown",
   "id": "1b1a0c27",
   "metadata": {},
   "source": [
    "15. A 4 digit number is entered through keyboard. Write a program to print a new number with digits reversed as of orignal one. E.g.-<br>\n",
    "INPUT : 1234        OUTPUT : 4321<br>\n",
    "INPUT : 5982        OUTPUT : 2895<br>\n"
   ]
  },
  {
   "cell_type": "code",
   "execution_count": 38,
   "id": "d406c7f5",
   "metadata": {
    "scrolled": true
   },
   "outputs": [
    {
     "name": "stdout",
     "output_type": "stream",
     "text": [
      "Enter the 4 digit number: 9876\n",
      "876 9\n",
      "76 8\n",
      "7 6\n",
      "The transpose number is 6789\n"
     ]
    }
   ],
   "source": [
    "num = int(input(\"Enter the 4 digit number: \"))\n",
    "\n",
    "#seperate the digits in the given number:\n",
    "first_num = int(num/1000)\n",
    "rem= num%1000\n",
    "print(rem, first_num)\n",
    "\n",
    "second_num= int(rem/100)\n",
    "rem1=rem%100\n",
    "print(rem1,second_num)\n",
    "\n",
    "third_num = int(rem1/10)\n",
    "fourth_num=rem1%10\n",
    "print(third_num, fourth_num)\n",
    "\n",
    "transpose= (fourth_num*1000)+(third_num*100)+(second_num*10)+first_num\n",
    "\n",
    "print(f\"The transpose number is {transpose}\")\n",
    "\n",
    "\n"
   ]
  }
 ],
 "metadata": {
  "kernelspec": {
   "display_name": "Python 3 (ipykernel)",
   "language": "python",
   "name": "python3"
  },
  "language_info": {
   "codemirror_mode": {
    "name": "ipython",
    "version": 3
   },
   "file_extension": ".py",
   "mimetype": "text/x-python",
   "name": "python",
   "nbconvert_exporter": "python",
   "pygments_lexer": "ipython3",
   "version": "3.9.13"
  }
 },
 "nbformat": 4,
 "nbformat_minor": 5
}
