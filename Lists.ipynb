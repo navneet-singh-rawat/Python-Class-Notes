{
 "cells": [
  {
   "cell_type": "markdown",
   "id": "91c51dde",
   "metadata": {},
   "source": [
    "# Lists: \n",
    "\n",
    "Lists are a set ove values enclosed in the square brackets seperated by commas. \n",
    "\n",
    "Lists can be created in 4 ways, \n",
    "1. We have a pre-defined list:\n",
    "    "
   ]
  },
  {
   "cell_type": "code",
   "execution_count": 1,
   "id": "1099d8d1",
   "metadata": {},
   "outputs": [
    {
     "name": "stdout",
     "output_type": "stream",
     "text": [
      "['Sun', 'Mercury', 'Venus', 'Earth', 'Mars'] <class 'list'>\n"
     ]
    }
   ],
   "source": [
    "a = ['Sun', 'Mercury', 'Venus', 'Earth', 'Mars']\n",
    "\n",
    "print(a, type(a))\n"
   ]
  },
  {
   "cell_type": "markdown",
   "id": "1acd1bf7",
   "metadata": {},
   "source": [
    "2. User input: "
   ]
  },
  {
   "cell_type": "code",
   "execution_count": 3,
   "id": "f29ee20d",
   "metadata": {},
   "outputs": [
    {
     "name": "stdout",
     "output_type": "stream",
     "text": [
      "Enter the list here:['Urban','Rural','Native']\n",
      "['Urban', 'Rural', 'Native'] <class 'list'>\n"
     ]
    }
   ],
   "source": [
    "b = eval(input(\"Enter the list here:\"))\n",
    "print(b, type(b))"
   ]
  },
  {
   "cell_type": "markdown",
   "id": "554a8237",
   "metadata": {},
   "source": [
    "3. Type casting:\n",
    "\n",
    "- The type of a given variable can only be changed to a list if existing value is iterable. <br>\n",
    "- We can check if the value is iterable by checking if the variable supports len() or can be iterated using the ___iter___ method. \n"
   ]
  },
  {
   "cell_type": "code",
   "execution_count": 6,
   "id": "001f815c",
   "metadata": {},
   "outputs": [
    {
     "ename": "AttributeError",
     "evalue": "'int' object has no attribute '___iter___'",
     "output_type": "error",
     "traceback": [
      "\u001b[1;31m---------------------------------------------------------------------------\u001b[0m",
      "\u001b[1;31mAttributeError\u001b[0m                            Traceback (most recent call last)",
      "\u001b[1;32m~\\AppData\\Local\\Temp\\ipykernel_7160\\213222488.py\u001b[0m in \u001b[0;36m<module>\u001b[1;34m\u001b[0m\n\u001b[0;32m      1\u001b[0m \u001b[0ma\u001b[0m\u001b[1;33m=\u001b[0m \u001b[1;36m100\u001b[0m\u001b[1;33m\u001b[0m\u001b[1;33m\u001b[0m\u001b[0m\n\u001b[1;32m----> 2\u001b[1;33m \u001b[0ma\u001b[0m\u001b[1;33m.\u001b[0m\u001b[0m___iter___\u001b[0m\u001b[1;33m\u001b[0m\u001b[1;33m\u001b[0m\u001b[0m\n\u001b[0m",
      "\u001b[1;31mAttributeError\u001b[0m: 'int' object has no attribute '___iter___'"
     ]
    }
   ],
   "source": [
    "a= 100\n",
    "a.___iter___\n"
   ]
  },
  {
   "cell_type": "code",
   "execution_count": 7,
   "id": "1f73b88b",
   "metadata": {},
   "outputs": [
    {
     "ename": "TypeError",
     "evalue": "object of type 'int' has no len()",
     "output_type": "error",
     "traceback": [
      "\u001b[1;31m---------------------------------------------------------------------------\u001b[0m",
      "\u001b[1;31mTypeError\u001b[0m                                 Traceback (most recent call last)",
      "\u001b[1;32m~\\AppData\\Local\\Temp\\ipykernel_7160\\398956367.py\u001b[0m in \u001b[0;36m<module>\u001b[1;34m\u001b[0m\n\u001b[1;32m----> 1\u001b[1;33m \u001b[0mlen\u001b[0m\u001b[1;33m(\u001b[0m\u001b[0ma\u001b[0m\u001b[1;33m)\u001b[0m\u001b[1;33m\u001b[0m\u001b[1;33m\u001b[0m\u001b[0m\n\u001b[0m",
      "\u001b[1;31mTypeError\u001b[0m: object of type 'int' has no len()"
     ]
    }
   ],
   "source": [
    "len(a)"
   ]
  },
  {
   "cell_type": "markdown",
   "id": "fcafdaae",
   "metadata": {},
   "source": [
    "- However, the variables/values that can be iterated can also be converted to lists using the list() method. "
   ]
  },
  {
   "cell_type": "code",
   "execution_count": 10,
   "id": "5a382aa5",
   "metadata": {},
   "outputs": [
    {
     "name": "stdout",
     "output_type": "stream",
     "text": [
      "['r', 'a', 'c', 'e', 'c', 'a', 'r'] <class 'list'>\n"
     ]
    }
   ],
   "source": [
    "a = 'racecar'\n",
    "len(a)\n",
    "a= list(a)\n",
    "print(a, type(a))"
   ]
  },
  {
   "cell_type": "markdown",
   "id": "657e75c6",
   "metadata": {},
   "source": [
    "4. Using the split() method. "
   ]
  },
  {
   "cell_type": "code",
   "execution_count": 18,
   "id": "479be614",
   "metadata": {},
   "outputs": [
    {
     "name": "stdout",
     "output_type": "stream",
     "text": [
      "['reviver', 'is', 'a', 'palindrome.'] <class 'list'>\n"
     ]
    }
   ],
   "source": [
    "a = 'reviver is a palindrome.'\n",
    "a = a.split()\n",
    "print(a, type(a))"
   ]
  },
  {
   "cell_type": "markdown",
   "id": "1b6a8a3b",
   "metadata": {},
   "source": [
    "### Properties of List: \n",
    "\n",
    "1. Lists are of sequence data types. \n",
    "2. Supports both +ve and -ve indexing. \n",
    "3. Operations Supported: indexing, slicing, concatenations, identity, membership, repetitions. \n",
    "4. Allows duplication of elements.\n",
    "5. Can store any datatype as elements. \n",
    "6. Lists are mutable. "
   ]
  },
  {
   "cell_type": "markdown",
   "id": "bd93fbfd",
   "metadata": {},
   "source": [
    "#### Indexing: \n",
    "\n",
    "Indexing is the process of getting an output of the a particular element from the list."
   ]
  },
  {
   "cell_type": "code",
   "execution_count": 20,
   "id": "29cceafb",
   "metadata": {},
   "outputs": [
    {
     "name": "stdout",
     "output_type": "stream",
     "text": [
      "['reviver', 'is', 'a', 'palindrome.']\n",
      "The length of list 'a' is  4\n",
      "reviver\n",
      "is\n",
      "a\n",
      "palindrome.\n"
     ]
    }
   ],
   "source": [
    "#from the above list of a, we can print the output of specific elements\n",
    "print(a)\n",
    "print(\"The length of list 'a' is \",len(a))\n",
    "print(a[0])\n",
    "print(a[1])\n",
    "print(a[2])\n",
    "print(a[3])"
   ]
  },
  {
   "cell_type": "markdown",
   "id": "488787a6",
   "metadata": {},
   "source": [
    "- Indexes start form 0 and end to len(list)-1."
   ]
  },
  {
   "cell_type": "code",
   "execution_count": 24,
   "id": "ba0e7db6",
   "metadata": {},
   "outputs": [
    {
     "name": "stdout",
     "output_type": "stream",
     "text": [
      "Enter your string here: This is a string\n",
      "The length of the given string is 16\n",
      "['T', 'h', 'i', 's', ' ', 'i', 's', ' ', 'a', ' ', 's', 't', 'r', 'i', 'n', 'g']\n"
     ]
    }
   ],
   "source": [
    "#Write a program to change a given string to a list and print the length. Use the list() type casting.\n",
    "\n",
    "string = input(\"Enter your string here: \")\n",
    "print(f\"The length of the given string is {len(string)}\", )\n",
    "string = list(string)\n",
    "print(string)\n",
    "\n"
   ]
  },
  {
   "cell_type": "code",
   "execution_count": 26,
   "id": "7d311a88",
   "metadata": {},
   "outputs": [
    {
     "name": "stdout",
     "output_type": "stream",
     "text": [
      "Enter your string here: This is a list created using split.\n",
      "The length of the given string is 35\n",
      "['This', 'is', 'a', 'list', 'created', 'using', 'split.']\n"
     ]
    }
   ],
   "source": [
    "#Write a program to change a given string to a list and print the length. Use the split() method.\n",
    "\n",
    "string = input(\"Enter your string here: \")\n",
    "print(f\"The length of the given string is {len(string)}\", )\n",
    "string = string.split()\n",
    "print(string)"
   ]
  },
  {
   "cell_type": "code",
   "execution_count": 30,
   "id": "f676e533",
   "metadata": {},
   "outputs": [
    {
     "name": "stdout",
     "output_type": "stream",
     "text": [
      "Enter your string here: This is a string. \n",
      "The length of the given string is 18\n",
      "['This', 'is', 'a', 'string.'] The length of the list is : 4\n",
      "This\n",
      "is\n",
      "a\n",
      "string.\n"
     ]
    }
   ],
   "source": [
    "#Print the len of a given string, convert it to a list, print len of the list and print all the elements.\n",
    "\n",
    "string = input(\"Enter your string here: \")\n",
    "print(f\"The length of the given string is {len(string)}\", )\n",
    "\n",
    "string = string.split()\n",
    "print(string, f\"The length of the list is : {len(string)}\")\n",
    "\n",
    "for i in range(0,len(string)):\n",
    "    print(string[i])"
   ]
  },
  {
   "cell_type": "markdown",
   "id": "5cd384c8",
   "metadata": {},
   "source": [
    "#### Slicing: \n",
    "\n",
    "- Slicing is a concept of extracting the data from a particular set of indexes.\n",
    "- Syntax: listname[starting_index : last_index+1 : step_size]\n",
    "- Starting index is the point where the data will start being considered. \n",
    "- Last index is exclusive in nature and hence need to have a value of +1. \n",
    "- A -1 step size starts the extraction of data from the last index+1 moving towards starting index. Default is +1."
   ]
  },
  {
   "cell_type": "code",
   "execution_count": 36,
   "id": "57eaabfa",
   "metadata": {},
   "outputs": [
    {
     "name": "stdout",
     "output_type": "stream",
     "text": [
      "10\n",
      "[10, 9, 8, 7, 6, 5, 4, 3, 2, 1]\n"
     ]
    }
   ],
   "source": [
    "a = [1,2,3,4,5,6,7,8,9,10]\n",
    "print(len(a))\n",
    "\n",
    "print(a[10::-1])\n"
   ]
  },
  {
   "cell_type": "code",
   "execution_count": null,
   "id": "02ffbfea",
   "metadata": {},
   "outputs": [],
   "source": []
  }
 ],
 "metadata": {
  "kernelspec": {
   "display_name": "Python 3 (ipykernel)",
   "language": "python",
   "name": "python3"
  },
  "language_info": {
   "codemirror_mode": {
    "name": "ipython",
    "version": 3
   },
   "file_extension": ".py",
   "mimetype": "text/x-python",
   "name": "python",
   "nbconvert_exporter": "python",
   "pygments_lexer": "ipython3",
   "version": "3.9.13"
  }
 },
 "nbformat": 4,
 "nbformat_minor": 5
}
