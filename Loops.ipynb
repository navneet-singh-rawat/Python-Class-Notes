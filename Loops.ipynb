{
 "cells": [
  {
   "cell_type": "markdown",
   "id": "aa3fc8c7",
   "metadata": {},
   "source": [
    "# Loops: \n",
    "Loops is a concept used to repeat a line of codes. <br>\n",
    "Iterate over the sequence. Work on each element inside the sequence.  \n",
    "\n",
    "### range() function:\n",
    "\n",
    "range() is used to define a range for a particular list/variable.<br>\n",
    "\n",
    "syntax: <br>\n",
    "range(first_number,last_number+1 , stepsize)<br>\n",
    "\n"
   ]
  },
  {
   "cell_type": "code",
   "execution_count": 7,
   "id": "0c9da0c9",
   "metadata": {},
   "outputs": [
    {
     "name": "stdout",
     "output_type": "stream",
     "text": [
      "range(0, 11)\n",
      "[0, 1, 2, 3, 4, 5, 6, 7, 8, 9, 10]\n",
      "[11, 10, 9, 8, 7, 6, 5, 4, 3, 2, 1]\n",
      "[42, 41, 40, 39, 38, 37, 36, 35, 34, 33, 32, 31, 30, 29, 28, 27, 26, 25, 24]\n"
     ]
    }
   ],
   "source": [
    "print(range(0,11))\n",
    "print(list(range(0,11)))\n",
    "print(list(range(11,0,-1)))\n",
    "print(list(range(42,23,-1)))"
   ]
  },
  {
   "cell_type": "markdown",
   "id": "ce37a9a7",
   "metadata": {},
   "source": [
    "\n",
    "## for loop:\n",
    "for loop is used to run the set of statements as per the expression provided. <br>\n",
    "syntax: <br>\n",
    "itrator can be defined by any alphabet. <br>\n",
    "\n",
    "for interator in range(start,end):<br>\n",
    "&emsp;   statement<br>\n",
    "&emsp;    statement<br>\n",
    " &emsp;   statement<br>\n",
    "\n",
    "for expression:<br>\n",
    "&emsp;    statement<br>\n",
    "&emsp;    statement<br>\n",
    "&emsp;    statement<br>\n",
    "    "
   ]
  },
  {
   "cell_type": "markdown",
   "id": "591e00f5",
   "metadata": {},
   "source": [
    "1. Print every  numbers between two given values  "
   ]
  },
  {
   "cell_type": "code",
   "execution_count": 1,
   "id": "a8970761",
   "metadata": {},
   "outputs": [
    {
     "name": "stdout",
     "output_type": "stream",
     "text": [
      "Enter the starting number: 1\n",
      "Enter the Ending number: 10\n",
      "Enter the Step Size: 1\n",
      "1\n",
      "2\n",
      "3\n",
      "4\n",
      "5\n",
      "6\n",
      "7\n",
      "8\n",
      "9\n"
     ]
    }
   ],
   "source": [
    "a= int(input(\"Enter the starting number: \"))\n",
    "b= int(input(\"Enter the Ending number: \"))\n",
    "c= int(input(\"Enter the Step Size: \"))\n",
    "\n",
    "for i in range(a,b,c):\n",
    "    print(i)"
   ]
  },
  {
   "cell_type": "markdown",
   "id": "04e98e2c",
   "metadata": {},
   "source": [
    "2. Print the following: <br>\n",
    "a<br>\n",
    "aa<br>\n",
    "aaa<br>\n",
    "aaaa<br>\n"
   ]
  },
  {
   "cell_type": "code",
   "execution_count": 13,
   "id": "bc7468be",
   "metadata": {},
   "outputs": [
    {
     "name": "stdout",
     "output_type": "stream",
     "text": [
      "a\n",
      "aa\n",
      "aaa\n",
      "aaaa\n"
     ]
    }
   ],
   "source": [
    "for i in range(1,5):\n",
    "    print(\"a\"*i)"
   ]
  },
  {
   "cell_type": "markdown",
   "id": "9b2c323d",
   "metadata": {},
   "source": [
    "3. Print the pattern: <br>\n",
    "aaaa<br>\n",
    "aaa<br>\n",
    "aa<br>\n",
    "a<br>"
   ]
  },
  {
   "cell_type": "code",
   "execution_count": 16,
   "id": "e7ff278b",
   "metadata": {},
   "outputs": [
    {
     "name": "stdout",
     "output_type": "stream",
     "text": [
      "aaaaa\n",
      "aaaa\n",
      "aaa\n",
      "aa\n",
      "a\n"
     ]
    }
   ],
   "source": [
    "for iii in range(5,0,-1):\n",
    "    print(\"a\"*iii)"
   ]
  },
  {
   "cell_type": "markdown",
   "id": "6dd2613e",
   "metadata": {},
   "source": [
    "4. Print the pattern:<br>\n",
    "1<br>\n",
    "22<br>\n",
    "333<br>\n",
    "4444<br>\n",
    "55555<br>"
   ]
  },
  {
   "cell_type": "code",
   "execution_count": 20,
   "id": "221d2c77",
   "metadata": {},
   "outputs": [
    {
     "name": "stdout",
     "output_type": "stream",
     "text": [
      "1\n",
      "22\n",
      "333\n",
      "4444\n",
      "55555\n"
     ]
    }
   ],
   "source": [
    "for i in range(1,6):\n",
    "    print(f\"{i}\"*i)"
   ]
  },
  {
   "cell_type": "markdown",
   "id": "7c5f2e86",
   "metadata": {},
   "source": [
    "5. Take 3 employee names and print them."
   ]
  },
  {
   "cell_type": "code",
   "execution_count": 1,
   "id": "8356f0c7",
   "metadata": {},
   "outputs": [
    {
     "name": "stdout",
     "output_type": "stream",
     "text": [
      "enter the number of employees: 4\n",
      "Enter the name :navneet\n",
      "The Name entered is navneet.\n",
      "Enter the name :megha\n",
      "The Name entered is megha.\n",
      "Enter the name :rocky\n",
      "The Name entered is rocky.\n",
      "Enter the name :rahul\n",
      "The Name entered is rahul.\n"
     ]
    }
   ],
   "source": [
    "n = int(input(\"enter the number of employees: \"))\n",
    "for i in range(0,n):\n",
    "    name= input(\"Enter the name :\")\n",
    "    print(f\"The Name entered is {name}.\")\n"
   ]
  },
  {
   "cell_type": "markdown",
   "id": "bfbb35c9",
   "metadata": {},
   "source": [
    "6. In a given string, display all the characters seperately. "
   ]
  },
  {
   "cell_type": "code",
   "execution_count": 4,
   "id": "3f8bc4e6",
   "metadata": {},
   "outputs": [
    {
     "name": "stdout",
     "output_type": "stream",
     "text": [
      "Enter the string: Python\n",
      "0  =  P\n",
      "1  =  y\n",
      "2  =  t\n",
      "3  =  h\n",
      "4  =  o\n",
      "5  =  n\n"
     ]
    }
   ],
   "source": [
    "string= input(\"Enter the string: \")\n",
    "\n",
    "for i in range(len(string)):\n",
    "    print(i, \" = \", string[i])"
   ]
  },
  {
   "cell_type": "markdown",
   "id": "f2e3de47",
   "metadata": {},
   "source": [
    "7. In a given string, display all the characters separately such the characters repeat number of times according to their position"
   ]
  },
  {
   "cell_type": "code",
   "execution_count": 7,
   "id": "ab09c966",
   "metadata": {},
   "outputs": [
    {
     "name": "stdout",
     "output_type": "stream",
     "text": [
      "Enter the string: Python\n",
      "0  =  P\n",
      "1  =  yy\n",
      "2  =  ttt\n",
      "3  =  hhhh\n",
      "4  =  ooooo\n",
      "5  =  nnnnnn\n"
     ]
    }
   ],
   "source": [
    "string = input(\"Enter the string: \")\n",
    "\n",
    "for i in range(len(string)):\n",
    "    print(i, \" = \", string[i]*(i+1))"
   ]
  },
  {
   "cell_type": "markdown",
   "id": "4df0ad2e",
   "metadata": {},
   "source": [
    "8. In a given string, display all characters seperated by a '-'."
   ]
  },
  {
   "cell_type": "code",
   "execution_count": 9,
   "id": "374c70df",
   "metadata": {},
   "outputs": [
    {
     "name": "stdout",
     "output_type": "stream",
     "text": [
      "Enter the string: Python\n",
      "P-y-t-h-o-n-"
     ]
    }
   ],
   "source": [
    "string = input(\"Enter the string: \")\n",
    "\n",
    "for i in range(len(string)):\n",
    "    print(string[i], end=\"-\")"
   ]
  },
  {
   "cell_type": "markdown",
   "id": "59be040a",
   "metadata": {},
   "source": [
    "9. In a given string, display all characters seperated by tab. "
   ]
  },
  {
   "cell_type": "code",
   "execution_count": 16,
   "id": "97d0f852",
   "metadata": {},
   "outputs": [
    {
     "name": "stdout",
     "output_type": "stream",
     "text": [
      "Enter the string: \n"
     ]
    }
   ],
   "source": [
    "string = input(\"Enter the string: \")\n",
    "\n",
    "for i in range(len(string)):\n",
    "    print(string[i], end='\\t')"
   ]
  },
  {
   "cell_type": "markdown",
   "id": "ef913680",
   "metadata": {},
   "source": [
    "### Break: \n",
    "Used to break the loop if the Expression is true. Terminates the entire loop. "
   ]
  },
  {
   "cell_type": "markdown",
   "id": "5aadecb9",
   "metadata": {},
   "source": [
    "### Continue: \n",
    "Used to continue the loop but skips the following statements in the iteration if the expression is true. "
   ]
  },
  {
   "cell_type": "markdown",
   "id": "71c60a2d",
   "metadata": {},
   "source": [
    "10. In a given email id, print the characters before the '@' symbol. "
   ]
  },
  {
   "cell_type": "code",
   "execution_count": 17,
   "id": "d3b08410",
   "metadata": {},
   "outputs": [
    {
     "name": "stdout",
     "output_type": "stream",
     "text": [
      "Enter the string: python@prog\n",
      "p\n",
      "y\n",
      "t\n",
      "h\n",
      "o\n",
      "n\n"
     ]
    }
   ],
   "source": [
    "string = input(\"Enter the string: \")\n",
    "\n",
    "for i in range(len(string)):\n",
    "    if string[i] == '@':\n",
    "        break\n",
    "    else: \n",
    "        print(string[i])\n"
   ]
  },
  {
   "cell_type": "markdown",
   "id": "7ae97e6b",
   "metadata": {},
   "source": [
    "11. In a given email id, skip printing @ and replace it with a space. "
   ]
  },
  {
   "cell_type": "code",
   "execution_count": 3,
   "id": "f0e9374b",
   "metadata": {},
   "outputs": [
    {
     "name": "stdout",
     "output_type": "stream",
     "text": [
      "Enter the email id: Python@Programming\n",
      "P\n",
      "y\n",
      "t\n",
      "h\n",
      "o\n",
      "n\n",
      " \n",
      "P\n",
      "r\n",
      "o\n",
      "g\n",
      "r\n",
      "a\n",
      "m\n",
      "m\n",
      "i\n",
      "n\n",
      "g\n"
     ]
    }
   ],
   "source": [
    "string = input(\"Enter the email id: \")\n",
    "\n",
    "for i in range(len(string)):\n",
    "    if string[i] == '@':\n",
    "        print(\" \")\n",
    "        continue\n",
    "        print(\"This statement should not be executed.\")\n",
    "    else:\n",
    "        print(string[i])\n",
    "        "
   ]
  },
  {
   "cell_type": "markdown",
   "id": "5a917bab",
   "metadata": {},
   "source": [
    "12. From the following message, extract the otp. <br>\n",
    "\"Your OTP for the transaction is 9472\"\n"
   ]
  },
  {
   "cell_type": "code",
   "execution_count": 11,
   "id": "5a6b996d",
   "metadata": {},
   "outputs": [
    {
     "name": "stdout",
     "output_type": "stream",
     "text": [
      "OTP ==> 9472"
     ]
    }
   ],
   "source": [
    "msg = \"Your OTP for the transaction is 9472\"\n",
    "print(\"OTP ==> \",end=\"\")\n",
    "for i in range(len(msg)):\n",
    "    if msg[i].isdigit():\n",
    "        print(msg[i], end=\"\")\n",
    "    else:\n",
    "        continue\n"
   ]
  },
  {
   "cell_type": "markdown",
   "id": "82e879a9",
   "metadata": {},
   "source": [
    "## While Loops: \n",
    "While loops are used when the iterator needs to have a value other than numbers.<br> Takes letters.<br> Is Generally used within for loops. "
   ]
  },
  {
   "cell_type": "markdown",
   "id": "52a02ac7",
   "metadata": {},
   "source": [
    "1. Print a given string for a given number of times.\n"
   ]
  },
  {
   "cell_type": "code",
   "execution_count": 16,
   "id": "e6918f96",
   "metadata": {},
   "outputs": [
    {
     "name": "stdout",
     "output_type": "stream",
     "text": [
      "Enter the string: Earth\n",
      "Enter the number of times you want to repeat the string: 3\n",
      "Earth\n",
      "Earth\n",
      "Earth\n"
     ]
    }
   ],
   "source": [
    "s= input(\"Enter the string: \")\n",
    "num= int(input(\"Enter the number of times you want to repeat the string: \"))\n",
    "i=0\n",
    "\n",
    "while i<num:\n",
    "    print(s)\n",
    "    i=i+1"
   ]
  },
  {
   "cell_type": "markdown",
   "id": "015f70e7",
   "metadata": {},
   "source": [
    "2. In a given string, display all the characters separately."
   ]
  },
  {
   "cell_type": "code",
   "execution_count": 18,
   "id": "56e02242",
   "metadata": {},
   "outputs": [
    {
     "name": "stdout",
     "output_type": "stream",
     "text": [
      "Enter the string: Python\n",
      "P\n",
      "y\n",
      "t\n",
      "h\n",
      "o\n",
      "n\n"
     ]
    }
   ],
   "source": [
    "string= input(\"Enter the string: \")\n",
    "i= 0\n",
    "l=len(string)\n",
    "\n",
    "while i<l:\n",
    "    print(string[i])\n",
    "    i=i+1\n",
    "\n"
   ]
  },
  {
   "cell_type": "markdown",
   "id": "d18e058c",
   "metadata": {},
   "source": [
    "3. In a given string, display all the characters separately using a '-'."
   ]
  },
  {
   "cell_type": "code",
   "execution_count": 19,
   "id": "8fac9072",
   "metadata": {},
   "outputs": [
    {
     "name": "stdout",
     "output_type": "stream",
     "text": [
      "Enter the string: Python\n",
      "P-y-t-h-o-n-"
     ]
    }
   ],
   "source": [
    "string = input(\"Enter the string: \")\n",
    "i=0\n",
    "l=len(string)\n",
    "\n",
    "while i<l:\n",
    "    print(string[i], end=\"-\")\n",
    "    i=i+1"
   ]
  },
  {
   "cell_type": "markdown",
   "id": "2ffaebfe",
   "metadata": {},
   "source": [
    "4. In a given string, display all the characters seperated by Tab. "
   ]
  },
  {
   "cell_type": "code",
   "execution_count": 22,
   "id": "6f93a11f",
   "metadata": {},
   "outputs": [
    {
     "name": "stdout",
     "output_type": "stream",
     "text": [
      "Enter the string: Python\n",
      "P\ty\tt\th\to\tn\t"
     ]
    }
   ],
   "source": [
    "string = input(\"Enter the string: \")\n",
    "i=0\n",
    "l=len(string)\n",
    "\n",
    "while i<l:\n",
    "    print(string[i], end=\"\\t\")\n",
    "    i=i+1"
   ]
  },
  {
   "cell_type": "markdown",
   "id": "fc270f8a",
   "metadata": {},
   "source": [
    "5. In a given email id, print all the characters that appear before @ as a username."
   ]
  },
  {
   "cell_type": "code",
   "execution_count": 25,
   "id": "e234360f",
   "metadata": {},
   "outputs": [
    {
     "name": "stdout",
     "output_type": "stream",
     "text": [
      "Enter the email id: navneet.6101@gmail.com\n",
      "Username ==> navneet.6101"
     ]
    }
   ],
   "source": [
    "email=input(\"Enter the email id: \")\n",
    "i=0\n",
    "l=len(email)\n",
    "\n",
    "print(\"Username ==> \", end=\"\")\n",
    "while i<l:\n",
    "    if email[i]=='@':\n",
    "        break\n",
    "    else:\n",
    "        print(email[i], end=\"\")\n",
    "    i=i+1\n"
   ]
  },
  {
   "cell_type": "markdown",
   "id": "dcaddde8",
   "metadata": {},
   "source": [
    "6. Take 3 animal names and print them. "
   ]
  },
  {
   "cell_type": "code",
   "execution_count": 31,
   "id": "4a4018f3",
   "metadata": {},
   "outputs": [
    {
     "name": "stdout",
     "output_type": "stream",
     "text": [
      "Enter the number of animals names to print: 3\n",
      "Enter the name of the animal: Dog\n",
      "Printed name:  Dog\n",
      "Enter the name of the animal: Cat\n",
      "Printed name:  Cat\n",
      "Enter the name of the animal: Peacock\n",
      "Printed name:  Peacock\n"
     ]
    }
   ],
   "source": [
    "a= int(input(\"Enter the number of animals names to print: \"))\n",
    "i=0\n",
    "\n",
    "while i<a:\n",
    "    name= input(\"Enter the name of the animal: \")\n",
    "    print(\"Printed name: \",name)\n",
    "    i=i+1"
   ]
  },
  {
   "cell_type": "markdown",
   "id": "f861f5ec",
   "metadata": {},
   "source": [
    "7. Write a program to print the animal names such that the user has to enter *** to stop the program. "
   ]
  },
  {
   "cell_type": "code",
   "execution_count": 34,
   "id": "54a26891",
   "metadata": {},
   "outputs": [
    {
     "name": "stdout",
     "output_type": "stream",
     "text": [
      "Enter the name of the animal: dog\n",
      "Printed name:  dog\n",
      "Enter Stop to end the code.\n",
      "Enter the name of the animal: cat\n",
      "Printed name:  cat\n",
      "Enter Stop to end the code.\n",
      "Enter the name of the animal: Tiger\n",
      "Printed name:  Tiger\n",
      "Enter Stop to end the code.\n",
      "Enter the name of the animal: Stop\n"
     ]
    }
   ],
   "source": [
    "while True:\n",
    "    a= input(\"Enter the name of the animal: \")\n",
    "    if a.lower()==\"stop\":\n",
    "        break\n",
    "    else: \n",
    "        print (f\"Printed name: \", a)\n",
    "        print (\"Enter Stop to end the code.\")"
   ]
  },
  {
   "cell_type": "code",
   "execution_count": null,
   "id": "f2fc012e",
   "metadata": {},
   "outputs": [],
   "source": []
  }
 ],
 "metadata": {
  "kernelspec": {
   "display_name": "Python 3 (ipykernel)",
   "language": "python",
   "name": "python3"
  },
  "language_info": {
   "codemirror_mode": {
    "name": "ipython",
    "version": 3
   },
   "file_extension": ".py",
   "mimetype": "text/x-python",
   "name": "python",
   "nbconvert_exporter": "python",
   "pygments_lexer": "ipython3",
   "version": "3.9.13"
  }
 },
 "nbformat": 4,
 "nbformat_minor": 5
}
